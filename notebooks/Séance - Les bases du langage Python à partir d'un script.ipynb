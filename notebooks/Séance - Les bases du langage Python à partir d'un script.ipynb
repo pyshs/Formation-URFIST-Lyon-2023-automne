{
 "cells": [
  {
   "cell_type": "markdown",
   "metadata": {},
   "source": [
    "# Les bases du langage Python\n",
    "\n",
    "- Prendre un script\n",
    "- L'exécuter (Console, Jupyter, etc.)\n",
    "- Le décortiquer"
   ]
  },
  {
   "cell_type": "code",
   "execution_count": 4,
   "metadata": {
    "tags": []
   },
   "outputs": [
    {
     "name": "stdin",
     "output_type": "stream",
     "text": [
      "Écrivez une phrase:  \n"
     ]
    },
    {
     "name": "stdout",
     "output_type": "stream",
     "text": [
      "La liste est vide\n"
     ]
    }
   ],
   "source": [
    "sortie_fichier = True\n",
    "nombre_min_lettres = 4\n",
    "phrase = input(\"Écrivez une phrase: \")\n",
    "liste_mots = phrase.split(\" \")\n",
    "nombre_mots = len(liste_mots)\n",
    "if len(phrase) == 0:\n",
    "    print(\"La liste est vide\")\n",
    "else:\n",
    "    compteur = 0\n",
    "    for i in liste_mots:\n",
    "        if len(i) >= nombre_min_lettres:\n",
    "            compteur+=1\n",
    "    proportion = round(100*compteur/nombre_mots,2)\n",
    "    informations = {\"Total\":compteur,\"Proportion\":proportion,\n",
    "                   \"Phrase\":phrase,\"Seuil\":nombre_min_lettres}\n",
    "    sortie = f\"Proportion de mots avec {nombre_min_lettres} lettres ou plus : {proportion}\"\n",
    "    print(sortie)\n",
    "    if sortie_fichier:\n",
    "        with open(\"resultat.txt\",\"w\") as f:\n",
    "            f.write(str(informations))"
   ]
  },
  {
   "cell_type": "code",
   "execution_count": 2,
   "metadata": {
    "tags": []
   },
   "outputs": [
    {
     "data": {
      "text/plain": [
       "['']"
      ]
     },
     "execution_count": 2,
     "metadata": {},
     "output_type": "execute_result"
    }
   ],
   "source": [
    "liste_mots"
   ]
  },
  {
   "cell_type": "code",
   "execution_count": 3,
   "metadata": {},
   "outputs": [
    {
     "name": "stdout",
     "output_type": "stream",
     "text": [
      "p\n"
     ]
    }
   ],
   "source": [
    "if not []:\n",
    "    print(\"p\")"
   ]
  },
  {
   "cell_type": "markdown",
   "metadata": {},
   "source": [
    "## Notions à aborder\n",
    "\n",
    "- présentation du Notebook & des raccourcis\n",
    "- la structure d'un script\n",
    "- définir, nom : les entités\n",
    "- les commentaires\n",
    "- des mots clés définis : https://docs.python.org/2/reference/lexical_analysis.html?highlight=keywords#keywords -> un petit nombre d'éléments à mémoriser...\n",
    "- le transtypage\n",
    "- les erreurs\n",
    "- espaces, saut de ligne, parenthèse, etc.\n",
    "- des variables et des fonctions (introduire la fonction types)\n",
    "- différents types (built in types : https://docs.python.org/3/library/stdtypes.html)\n",
    " - int & float\n",
    " - chaînes de caractères\n",
    " - listes\n",
    " - dictionnaires\n",
    " - tuples\n",
    " - booléens\n",
    " - sets\n",
    "- variable et objet : des propriétés et des méthodes (utiliser dir & l'introspection)\n",
    "- les fonctions prédéfinies (len, type, print, str, range, round, etc.) + des modules déjà chargés\n",
    "- utiliser l'aide\n",
    "- l'évaluation d'une condition (introduire in, ==, etc.)\n",
    "- les blocs qui organisent le script :\n",
    " - condition et if (mot clé in, opérateurs and, etc.)\n",
    " - boucles\n",
    " - présenter rapidement la compréhension de liste\n",
    "- écrire dans un fichier : bloc with\n",
    " - écrire le résultat du script\n",
    "- définir une fonction\n"
   ]
  },
  {
   "cell_type": "markdown",
   "metadata": {},
   "source": [
    "### Exercice\n",
    "\n",
    "- créer une fonction qui fait les étapes de compter le nombre de mots à partir d'un certain seul pour renvoyer le pourcentage\n",
    "- appliquer cette fonction à un texte stocké dans un fichier"
   ]
  }
 ],
 "metadata": {
  "kernelspec": {
   "display_name": "Python 3 (ipykernel)",
   "language": "python",
   "name": "python3"
  },
  "language_info": {
   "codemirror_mode": {
    "name": "ipython",
    "version": 3
   },
   "file_extension": ".py",
   "mimetype": "text/x-python",
   "name": "python",
   "nbconvert_exporter": "python",
   "pygments_lexer": "ipython3",
   "version": "3.11.5"
  }
 },
 "nbformat": 4,
 "nbformat_minor": 4
}
