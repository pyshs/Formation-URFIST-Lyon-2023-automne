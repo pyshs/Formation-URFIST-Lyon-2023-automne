{
 "cells": [
  {
   "cell_type": "markdown",
   "id": "28f9e349-5678-4d4b-8d5e-318b66786ed9",
   "metadata": {},
   "source": [
    "# Traitement de données statistiques avec pandas"
   ]
  },
  {
   "cell_type": "markdown",
   "id": "53745b08-fcf3-4852-89ff-be72bf702812",
   "metadata": {},
   "source": [
    "## Charger des données"
   ]
  },
  {
   "cell_type": "code",
   "execution_count": 1,
   "id": "137132f4-2712-466e-ad3c-a77e94c259c4",
   "metadata": {
    "tags": []
   },
   "outputs": [],
   "source": [
    "import pandas as pd"
   ]
  },
  {
   "cell_type": "code",
   "execution_count": 9,
   "id": "18e12d11-c8b3-4c3f-8fac-5973fee54ea9",
   "metadata": {
    "tags": []
   },
   "outputs": [],
   "source": [
    "df = pd.read_csv(\"../Formation-URFIST-Lyon-2023-automne/data/SOSP_Export_base de données diffusable.csv\")"
   ]
  },
  {
   "cell_type": "code",
   "execution_count": 11,
   "id": "af5841ad-26a4-4b16-90f5-4ccae144f931",
   "metadata": {
    "tags": []
   },
   "outputs": [
    {
     "data": {
      "text/plain": [
       "(1089, 131)"
      ]
     },
     "execution_count": 11,
     "metadata": {},
     "output_type": "execute_result"
    }
   ],
   "source": [
    "df.shape"
   ]
  },
  {
   "cell_type": "code",
   "execution_count": 12,
   "id": "88316aae-7fd0-4a8d-aaad-4fab1b675651",
   "metadata": {
    "tags": []
   },
   "outputs": [
    {
     "data": {
      "text/plain": [
       "pandas.core.frame.DataFrame"
      ]
     },
     "execution_count": 12,
     "metadata": {},
     "output_type": "execute_result"
    }
   ],
   "source": [
    "type(df)"
   ]
  },
  {
   "cell_type": "markdown",
   "id": "ea1e3d65-38d1-4938-ae59-fde788af0b92",
   "metadata": {},
   "source": [
    "## Rapidement, le tableau pandas"
   ]
  },
  {
   "cell_type": "code",
   "execution_count": 19,
   "id": "ca87a3de-f208-44bd-a9b3-a03a1e6343ae",
   "metadata": {
    "tags": []
   },
   "outputs": [],
   "source": [
    "df_exemple = pd.DataFrame([[\"A\",1],[\"B\",2],[\"C\",3]],columns = [\"colonne 1\",\"colonne 2\"])"
   ]
  },
  {
   "cell_type": "code",
   "execution_count": 20,
   "id": "52b09769-3dc5-4baa-b2e8-4c5bc22c0bbc",
   "metadata": {
    "tags": []
   },
   "outputs": [
    {
     "data": {
      "text/html": [
       "<div>\n",
       "<style scoped>\n",
       "    .dataframe tbody tr th:only-of-type {\n",
       "        vertical-align: middle;\n",
       "    }\n",
       "\n",
       "    .dataframe tbody tr th {\n",
       "        vertical-align: top;\n",
       "    }\n",
       "\n",
       "    .dataframe thead th {\n",
       "        text-align: right;\n",
       "    }\n",
       "</style>\n",
       "<table border=\"1\" class=\"dataframe\">\n",
       "  <thead>\n",
       "    <tr style=\"text-align: right;\">\n",
       "      <th></th>\n",
       "      <th>colonne 1</th>\n",
       "      <th>colonne 2</th>\n",
       "    </tr>\n",
       "  </thead>\n",
       "  <tbody>\n",
       "    <tr>\n",
       "      <th>0</th>\n",
       "      <td>A</td>\n",
       "      <td>1</td>\n",
       "    </tr>\n",
       "    <tr>\n",
       "      <th>1</th>\n",
       "      <td>B</td>\n",
       "      <td>2</td>\n",
       "    </tr>\n",
       "    <tr>\n",
       "      <th>2</th>\n",
       "      <td>C</td>\n",
       "      <td>3</td>\n",
       "    </tr>\n",
       "  </tbody>\n",
       "</table>\n",
       "</div>"
      ],
      "text/plain": [
       "  colonne 1  colonne 2\n",
       "0         A          1\n",
       "1         B          2\n",
       "2         C          3"
      ]
     },
     "execution_count": 20,
     "metadata": {},
     "output_type": "execute_result"
    }
   ],
   "source": [
    "df_exemple"
   ]
  },
  {
   "cell_type": "code",
   "execution_count": 21,
   "id": "1e873633-55b0-4823-83d0-f3d131440f15",
   "metadata": {
    "tags": []
   },
   "outputs": [
    {
     "data": {
      "text/plain": [
       "Index(['colonne 1', 'colonne 2'], dtype='object')"
      ]
     },
     "execution_count": 21,
     "metadata": {},
     "output_type": "execute_result"
    }
   ],
   "source": [
    "df_exemple.columns"
   ]
  },
  {
   "cell_type": "code",
   "execution_count": 23,
   "id": "149bb657-4dc1-4780-8421-7d20fa1c6af7",
   "metadata": {
    "tags": []
   },
   "outputs": [
    {
     "data": {
      "text/plain": [
       "[0, 1, 2]"
      ]
     },
     "execution_count": 23,
     "metadata": {},
     "output_type": "execute_result"
    }
   ],
   "source": [
    "list(df_exemple.index)"
   ]
  },
  {
   "cell_type": "code",
   "execution_count": 24,
   "id": "d8efb6ba-c489-4b1a-9ff8-c99d2969861e",
   "metadata": {
    "tags": []
   },
   "outputs": [
    {
     "data": {
      "text/plain": [
       "0    A\n",
       "1    B\n",
       "2    C\n",
       "Name: colonne 1, dtype: object"
      ]
     },
     "execution_count": 24,
     "metadata": {},
     "output_type": "execute_result"
    }
   ],
   "source": [
    "df_exemple[\"colonne 1\"]"
   ]
  },
  {
   "cell_type": "code",
   "execution_count": 25,
   "id": "06892028-ab7e-4d3a-8a9a-bbb3dcf82e33",
   "metadata": {
    "tags": []
   },
   "outputs": [
    {
     "data": {
      "text/plain": [
       "colonne 1    B\n",
       "colonne 2    2\n",
       "Name: 1, dtype: object"
      ]
     },
     "execution_count": 25,
     "metadata": {},
     "output_type": "execute_result"
    }
   ],
   "source": [
    "df_exemple.loc[1]"
   ]
  },
  {
   "cell_type": "code",
   "execution_count": 26,
   "id": "56bea15a-26bf-4223-8ca6-27f6d480e70d",
   "metadata": {
    "tags": []
   },
   "outputs": [
    {
     "data": {
      "text/plain": [
       "'B'"
      ]
     },
     "execution_count": 26,
     "metadata": {},
     "output_type": "execute_result"
    }
   ],
   "source": [
    "df_exemple.loc[1,\"colonne 1\"]"
   ]
  },
  {
   "cell_type": "markdown",
   "id": "94d21427-87dd-4c49-a43a-bd06448cce50",
   "metadata": {},
   "source": [
    "## Manipuler un tableau"
   ]
  },
  {
   "cell_type": "code",
   "execution_count": 28,
   "id": "32ade405-f2f3-44e0-963a-c25382c43ba3",
   "metadata": {
    "tags": []
   },
   "outputs": [
    {
     "data": {
      "text/plain": [
       "Index(['Id', 'contexte_travail', 'fonction_recherche', 'statut_professionnel',\n",
       "       'statut_professionnel_Autre', 'annee_premiere_publi',\n",
       "       'Systeme_exploitation', 'Usage_telephone_mobile',\n",
       "       'Outils_gestion_travail_av_confinement_visioconférence',\n",
       "       'Outils_gestion_travail_av_confinement_planification_RDV',\n",
       "       ...\n",
       "       'Souhait_partage_donnees_produites_discipline',\n",
       "       'Souhait_partage_donnees_produites_pays_continent',\n",
       "       'Souhait_partage_donnees_produites_domaine_economique',\n",
       "       'Souhait_partage_donnees_produites_secteur_associatif',\n",
       "       'Souhait_partage_donnees_produites_sans_restriction',\n",
       "       'compatibilite_diffusion_partage', 'evolutions_pratiques_numeriques',\n",
       "       'sexe', 'disciplines_9niv', 'annee_de_naissance-recod10niv'],\n",
       "      dtype='object', length=131)"
      ]
     },
     "execution_count": 28,
     "metadata": {},
     "output_type": "execute_result"
    }
   ],
   "source": [
    "df.columns"
   ]
  },
  {
   "cell_type": "code",
   "execution_count": 33,
   "id": "fc4df61b-522f-4c24-8b5e-6adb28998875",
   "metadata": {
    "tags": []
   },
   "outputs": [
    {
     "data": {
      "text/plain": [
       "array(['fonctionnaire ou assimilé', 'en CDI', 'en CDD',\n",
       "       'travailleur indépendant', 'contrat doctoral', 'retraité',\n",
       "       'post-doc', 'doctorant non financé',\n",
       "       'professeur / chercheur émérite', 'chômage', 'autre', 'vacataire'],\n",
       "      dtype=object)"
      ]
     },
     "execution_count": 33,
     "metadata": {},
     "output_type": "execute_result"
    }
   ],
   "source": [
    "df[\"statut_professionnel\"].unique()"
   ]
  },
  {
   "cell_type": "code",
   "execution_count": 43,
   "id": "371edd55-e57d-4414-9723-8eb15711816f",
   "metadata": {
    "tags": []
   },
   "outputs": [
    {
     "data": {
      "text/plain": [
       "statut_professionnel\n",
       "fonctionnaire ou assimilé         65.29\n",
       "en CDI                            10.01\n",
       "contrat doctoral                   9.09\n",
       "en CDD                             8.72\n",
       "post-doc                           2.75\n",
       "travailleur indépendant            1.84\n",
       "doctorant non financé              0.64\n",
       "chômage                            0.55\n",
       "retraité                           0.46\n",
       "professeur / chercheur émérite     0.28\n",
       "autre                              0.18\n",
       "vacataire                          0.18\n",
       "Name: proportion, dtype: float64"
      ]
     },
     "execution_count": 43,
     "metadata": {},
     "output_type": "execute_result"
    }
   ],
   "source": [
    "round(100*df[\"statut_professionnel\"].value_counts(normalize=True),2)"
   ]
  },
  {
   "cell_type": "code",
   "execution_count": 37,
   "id": "c6494615-a4df-4dbe-a933-66369139bd87",
   "metadata": {
    "tags": []
   },
   "outputs": [
    {
     "data": {
      "text/plain": [
       "15.969696969696969"
      ]
     },
     "execution_count": 37,
     "metadata": {},
     "output_type": "execute_result"
    }
   ],
   "source": [
    "(2020-df[\"annee_premiere_publi\"]).mean()"
   ]
  },
  {
   "cell_type": "code",
   "execution_count": 38,
   "id": "36823d57-b801-4977-aef9-11e2283b757b",
   "metadata": {
    "tags": []
   },
   "outputs": [
    {
     "data": {
      "text/plain": [
       "11.362671081996833"
      ]
     },
     "execution_count": 38,
     "metadata": {},
     "output_type": "execute_result"
    }
   ],
   "source": [
    "(2020-df[\"annee_premiere_publi\"]).std()"
   ]
  },
  {
   "cell_type": "code",
   "execution_count": 39,
   "id": "ee88166d-187f-430d-b7ba-a28e6d5f8793",
   "metadata": {
    "tags": []
   },
   "outputs": [
    {
     "data": {
      "text/plain": [
       "count    1089.000000\n",
       "mean       15.969697\n",
       "std        11.362671\n",
       "min         0.000000\n",
       "25%         6.000000\n",
       "50%        15.000000\n",
       "75%        24.000000\n",
       "max        52.000000\n",
       "Name: annee_premiere_publi, dtype: float64"
      ]
     },
     "execution_count": 39,
     "metadata": {},
     "output_type": "execute_result"
    }
   ],
   "source": [
    "(2020-df[\"annee_premiere_publi\"]).describe()"
   ]
  },
  {
   "cell_type": "code",
   "execution_count": 46,
   "id": "2478213f-f8dc-496e-b6cc-8462b70bbc3e",
   "metadata": {
    "tags": []
   },
   "outputs": [
    {
     "data": {
      "text/plain": [
       "<Axes: ylabel='Frequency'>"
      ]
     },
     "execution_count": 46,
     "metadata": {},
     "output_type": "execute_result"
    },
    {
     "data": {
      "image/png": "[encoded data removed]",
      "text/plain": [
       "<Figure size 500x200 with 1 Axes>"
      ]
     },
     "metadata": {},
     "output_type": "display_data"
    }
   ],
   "source": [
    "df[\"annee_premiere_publi\"].plot(kind=\"hist\",bins=20,figsize=(5,2))"
   ]
  },
  {
   "cell_type": "code",
   "execution_count": 50,
   "id": "39da5c47-0cd7-4441-95c6-a45806bb4868",
   "metadata": {
    "tags": []
   },
   "outputs": [
    {
     "data": {
      "text/plain": [
       "<Axes: ylabel='statut_professionnel'>"
      ]
     },
     "execution_count": 50,
     "metadata": {},
     "output_type": "execute_result"
    },
    {
     "data": {
      "image/png": "[encoded data removed]",
      "text/plain": [
       "<Figure size 500x300 with 1 Axes>"
      ]
     },
     "metadata": {},
     "output_type": "display_data"
    }
   ],
   "source": [
    "df[\"statut_professionnel\"].value_counts().plot(kind=\"barh\",figsize=(5,3))"
   ]
  },
  {
   "cell_type": "markdown",
   "id": "820068e9-07dc-4769-b9b8-d870ade36e41",
   "metadata": {},
   "source": [
    "## Transformer les données"
   ]
  },
  {
   "cell_type": "code",
   "execution_count": 57,
   "id": "781e9774-a134-4f43-9f52-7ecca00722de",
   "metadata": {
    "tags": []
   },
   "outputs": [
    {
     "data": {
      "text/plain": [
       "array(['fonctionnaire ou assimilé', 'en CDI', 'en CDD',\n",
       "       'travailleur indépendant', 'contrat doctoral', 'retraité',\n",
       "       'post-doc', 'doctorant non financé',\n",
       "       'professeur / chercheur émérite', 'chômage', 'autre', 'vacataire'],\n",
       "      dtype=object)"
      ]
     },
     "execution_count": 57,
     "metadata": {},
     "output_type": "execute_result"
    }
   ],
   "source": [
    "df[\"statut_professionnel\"].unique()"
   ]
  },
  {
   "cell_type": "code",
   "execution_count": 58,
   "id": "a5208390-0b3f-4eaa-9069-5d89abec4c97",
   "metadata": {
    "tags": []
   },
   "outputs": [],
   "source": [
    "reco = {'fonctionnaire ou assimilé':\"CDI\", \n",
    "        'en CDI':\"CDI\", 'en CDD':\"précaire\",\n",
    "       'travailleur indépendant':\"autre\", \n",
    "        'contrat doctoral':\"précaire\", 'retraité':\"autre\",\n",
    "       'post-doc':\"précaire\",\n",
    "        'doctorant non financé':\"précaire\",\n",
    "       'professeur / chercheur émérite':\"autre\", 'chômage':\"précaire\", 'autre':\"autre\", \n",
    "        'vacataire':\"précaire\"}\n",
    "\n",
    "df[\"statut_professionnel_reco\"] = df[\"statut_professionnel\"].replace(reco)"
   ]
  },
  {
   "cell_type": "code",
   "execution_count": 59,
   "id": "e1bc8ae3-ff96-477a-b966-6dbd8f6e0640",
   "metadata": {
    "tags": []
   },
   "outputs": [
    {
     "data": {
      "text/plain": [
       "statut_professionnel_reco\n",
       "CDI         820\n",
       "précaire    239\n",
       "autre        30\n",
       "Name: count, dtype: int64"
      ]
     },
     "execution_count": 59,
     "metadata": {},
     "output_type": "execute_result"
    }
   ],
   "source": [
    "df[\"statut_professionnel_reco\"].value_counts()"
   ]
  },
  {
   "cell_type": "markdown",
   "id": "d278e4f6-d10c-448d-8907-d5f3b7861099",
   "metadata": {},
   "source": [
    "## recoder les données numériques"
   ]
  },
  {
   "cell_type": "code",
   "execution_count": 66,
   "id": "92d4233b-84fc-48c3-a04a-407c3f7d8bcf",
   "metadata": {
    "tags": []
   },
   "outputs": [],
   "source": [
    "df[\"annee_premiere_publi_Q\"] = pd.qcut(df[\"annee_premiere_publi\"],4)"
   ]
  },
  {
   "cell_type": "code",
   "execution_count": 67,
   "id": "d5cbf46e-2f4c-4f77-bf14-047663033b06",
   "metadata": {
    "tags": []
   },
   "outputs": [],
   "source": [
    "df.to_excel(\"résultats.xlsx\")"
   ]
  },
  {
   "cell_type": "markdown",
   "id": "5764d216-125f-4204-98e6-0713635dbe4f",
   "metadata": {},
   "source": [
    "## Une base de données"
   ]
  },
  {
   "cell_type": "code",
   "execution_count": 62,
   "id": "753a2113-9648-405b-9913-efdcb7494b2d",
   "metadata": {
    "tags": []
   },
   "outputs": [],
   "source": [
    "filtre = (df[\"statut_professionnel_reco\"] == \"précaire\")"
   ]
  },
  {
   "cell_type": "code",
   "execution_count": 64,
   "id": "342d5b0d-e2e3-44b3-83d8-654aefe18ac0",
   "metadata": {
    "tags": []
   },
   "outputs": [
    {
     "data": {
      "text/plain": [
       "(239, 132)"
      ]
     },
     "execution_count": 64,
     "metadata": {},
     "output_type": "execute_result"
    }
   ],
   "source": [
    "df[filtre].shape"
   ]
  }
 ],
 "metadata": {
  "kernelspec": {
   "display_name": "Python 3 (ipykernel)",
   "language": "python",
   "name": "python3"
  },
  "language_info": {
   "codemirror_mode": {
    "name": "ipython",
    "version": 3
   },
   "file_extension": ".py",
   "mimetype": "text/x-python",
   "name": "python",
   "nbconvert_exporter": "python",
   "pygments_lexer": "ipython3",
   "version": "3.11.4"
  }
 },
 "nbformat": 4,
 "nbformat_minor": 5
}
