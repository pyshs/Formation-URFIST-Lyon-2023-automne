{
 "cells": [
  {
   "cell_type": "markdown",
   "id": "63f18f38",
   "metadata": {
    "slideshow": {
     "slide_type": "slide"
    }
   },
   "source": [
    "# Analyse de questionnaire : enquête sur les pratiques numériques des chercheurs"
   ]
  },
  {
   "cell_type": "markdown",
   "id": "73d8c585",
   "metadata": {},
   "source": [
    "- comparer SHS/non SHS\n",
    "- décrire le paysage (réseau)"
   ]
  },
  {
   "cell_type": "markdown",
   "id": "7d4c4db5",
   "metadata": {},
   "source": [
    "### Chargement des bibliothèques"
   ]
  },
  {
   "cell_type": "code",
   "execution_count": 1,
   "id": "46e46774",
   "metadata": {
    "tags": []
   },
   "outputs": [],
   "source": [
    "# Pour la manipulation de tableaux\n",
    "import pandas as pd\n",
    "\n",
    "# Pour la visualisation\n",
    "import matplotlib.pyplot as plt\n",
    "\n",
    "# Pour les statistiques\n",
    "import pyshs\n",
    "\n",
    "# Pour la classification\n",
    "from sklearn.cluster import AgglomerativeClustering\n",
    "\n",
    "# Enlever les warnings\n",
    "import warnings\n",
    "warnings.filterwarnings(\"ignore\")"
   ]
  },
  {
   "cell_type": "code",
   "execution_count": 2,
   "id": "7b6c6dfb",
   "metadata": {
    "tags": []
   },
   "outputs": [],
   "source": [
    "data = pd.read_csv(\"./data/raw/SOSP_Export_base de données diffusable.csv\")\n",
    "meta = pd.read_csv(\"./data/raw/SOSP_metadonnees_variables.csv\")"
   ]
  },
  {
   "cell_type": "markdown",
   "id": "8bbff72b",
   "metadata": {},
   "source": [
    "### 1.2 Mise en forme"
   ]
  },
  {
   "cell_type": "markdown",
   "id": "013ab975",
   "metadata": {},
   "source": [
    "La première étape est de regarder les données existantes (soit avec un tableur, soit directement dans le Notebook)"
   ]
  },
  {
   "cell_type": "code",
   "execution_count": 3,
   "id": "6856e041",
   "metadata": {
    "tags": []
   },
   "outputs": [
    {
     "data": {
      "text/html": [
       "<div>\n",
       "<style scoped>\n",
       "    .dataframe tbody tr th:only-of-type {\n",
       "        vertical-align: middle;\n",
       "    }\n",
       "\n",
       "    .dataframe tbody tr th {\n",
       "        vertical-align: top;\n",
       "    }\n",
       "\n",
       "    .dataframe thead th {\n",
       "        text-align: right;\n",
       "    }\n",
       "</style>\n",
       "<table border=\"1\" class=\"dataframe\">\n",
       "  <thead>\n",
       "    <tr style=\"text-align: right;\">\n",
       "      <th></th>\n",
       "      <th>Id</th>\n",
       "      <th>contexte_travail</th>\n",
       "      <th>fonction_recherche</th>\n",
       "      <th>statut_professionnel</th>\n",
       "      <th>statut_professionnel_Autre</th>\n",
       "      <th>annee_premiere_publi</th>\n",
       "      <th>Systeme_exploitation</th>\n",
       "      <th>Usage_telephone_mobile</th>\n",
       "      <th>Outils_gestion_travail_av_confinement_visioconférence</th>\n",
       "      <th>Outils_gestion_travail_av_confinement_planification_RDV</th>\n",
       "      <th>...</th>\n",
       "      <th>Souhait_partage_donnees_produites_discipline</th>\n",
       "      <th>Souhait_partage_donnees_produites_pays_continent</th>\n",
       "      <th>Souhait_partage_donnees_produites_domaine_economique</th>\n",
       "      <th>Souhait_partage_donnees_produites_secteur_associatif</th>\n",
       "      <th>Souhait_partage_donnees_produites_sans_restriction</th>\n",
       "      <th>compatibilite_diffusion_partage</th>\n",
       "      <th>evolutions_pratiques_numeriques</th>\n",
       "      <th>sexe</th>\n",
       "      <th>disciplines_9niv</th>\n",
       "      <th>annee_de_naissance-recod10niv</th>\n",
       "    </tr>\n",
       "  </thead>\n",
       "  <tbody>\n",
       "    <tr>\n",
       "      <th>0</th>\n",
       "      <td>1</td>\n",
       "      <td>nous sommes entre 6 et 10 personnes</td>\n",
       "      <td>professeur / professeure des universités et as...</td>\n",
       "      <td>fonctionnaire ou assimilé</td>\n",
       "      <td>NaN</td>\n",
       "      <td>1995</td>\n",
       "      <td>Windows</td>\n",
       "      <td>rarement</td>\n",
       "      <td>parfois</td>\n",
       "      <td>souvent</td>\n",
       "      <td>...</td>\n",
       "      <td>oui</td>\n",
       "      <td>oui</td>\n",
       "      <td>oui</td>\n",
       "      <td>oui</td>\n",
       "      <td>oui</td>\n",
       "      <td>oui</td>\n",
       "      <td>je ne sais pas</td>\n",
       "      <td>un homme</td>\n",
       "      <td>Sciences humaines</td>\n",
       "      <td>61 à 65 ans</td>\n",
       "    </tr>\n",
       "    <tr>\n",
       "      <th>1</th>\n",
       "      <td>2</td>\n",
       "      <td>nous sommes plus de 50 personnes</td>\n",
       "      <td>ingénieur / ingénieure de recherche</td>\n",
       "      <td>en CDI</td>\n",
       "      <td>NaN</td>\n",
       "      <td>2005</td>\n",
       "      <td>Windows</td>\n",
       "      <td>rarement</td>\n",
       "      <td>parfois</td>\n",
       "      <td>parfois</td>\n",
       "      <td>...</td>\n",
       "      <td>oui</td>\n",
       "      <td>oui</td>\n",
       "      <td>oui</td>\n",
       "      <td>oui</td>\n",
       "      <td>oui</td>\n",
       "      <td>NaN</td>\n",
       "      <td>NaN</td>\n",
       "      <td>un homme</td>\n",
       "      <td>Médecine</td>\n",
       "      <td>46 à 50 ans</td>\n",
       "    </tr>\n",
       "    <tr>\n",
       "      <th>2</th>\n",
       "      <td>3</td>\n",
       "      <td>nous sommes entre 2 et 5 personnes</td>\n",
       "      <td>maître / maîtresse de conférences et assimilés</td>\n",
       "      <td>fonctionnaire ou assimilé</td>\n",
       "      <td>NaN</td>\n",
       "      <td>2006</td>\n",
       "      <td>Windows</td>\n",
       "      <td>parfois</td>\n",
       "      <td>rarement</td>\n",
       "      <td>souvent</td>\n",
       "      <td>...</td>\n",
       "      <td>oui</td>\n",
       "      <td>oui</td>\n",
       "      <td>oui</td>\n",
       "      <td>oui</td>\n",
       "      <td>oui</td>\n",
       "      <td>oui, tout est dans la chronologie</td>\n",
       "      <td>non</td>\n",
       "      <td>un homme</td>\n",
       "      <td>Médecine</td>\n",
       "      <td>36 à 40 ans</td>\n",
       "    </tr>\n",
       "    <tr>\n",
       "      <th>3</th>\n",
       "      <td>4</td>\n",
       "      <td>nous sommes entre 2 et 5 personnes</td>\n",
       "      <td>directeur / directrice de recherche (CNRS, INS...</td>\n",
       "      <td>fonctionnaire ou assimilé</td>\n",
       "      <td>NaN</td>\n",
       "      <td>1989</td>\n",
       "      <td>Windows;autres OS (Android...)</td>\n",
       "      <td>souvent</td>\n",
       "      <td>rarement</td>\n",
       "      <td>souvent</td>\n",
       "      <td>...</td>\n",
       "      <td>oui</td>\n",
       "      <td>oui</td>\n",
       "      <td>non</td>\n",
       "      <td>non</td>\n",
       "      <td>non</td>\n",
       "      <td>Oui</td>\n",
       "      <td>Aucune idée</td>\n",
       "      <td>une femme</td>\n",
       "      <td>Médecine</td>\n",
       "      <td>56 à 60 ans</td>\n",
       "    </tr>\n",
       "    <tr>\n",
       "      <th>4</th>\n",
       "      <td>5</td>\n",
       "      <td>nous sommes entre 2 et 5 personnes</td>\n",
       "      <td>doctorant / doctorante (y compris CIFRE)</td>\n",
       "      <td>en CDD</td>\n",
       "      <td>NaN</td>\n",
       "      <td>2015</td>\n",
       "      <td>MacOS</td>\n",
       "      <td>souvent</td>\n",
       "      <td>rarement</td>\n",
       "      <td>parfois</td>\n",
       "      <td>...</td>\n",
       "      <td>oui</td>\n",
       "      <td>oui</td>\n",
       "      <td>oui</td>\n",
       "      <td>oui</td>\n",
       "      <td>oui</td>\n",
       "      <td>Oui</td>\n",
       "      <td>Oui</td>\n",
       "      <td>une femme</td>\n",
       "      <td>Médecine</td>\n",
       "      <td>31 à 35 ans</td>\n",
       "    </tr>\n",
       "  </tbody>\n",
       "</table>\n",
       "<p>5 rows × 131 columns</p>\n",
       "</div>"
      ],
      "text/plain": [
       "   Id                     contexte_travail  \\\n",
       "0   1  nous sommes entre 6 et 10 personnes   \n",
       "1   2     nous sommes plus de 50 personnes   \n",
       "2   3   nous sommes entre 2 et 5 personnes   \n",
       "3   4   nous sommes entre 2 et 5 personnes   \n",
       "4   5   nous sommes entre 2 et 5 personnes   \n",
       "\n",
       "                                  fonction_recherche  \\\n",
       "0  professeur / professeure des universités et as...   \n",
       "1                ingénieur / ingénieure de recherche   \n",
       "2     maître / maîtresse de conférences et assimilés   \n",
       "3  directeur / directrice de recherche (CNRS, INS...   \n",
       "4           doctorant / doctorante (y compris CIFRE)   \n",
       "\n",
       "        statut_professionnel statut_professionnel_Autre  annee_premiere_publi  \\\n",
       "0  fonctionnaire ou assimilé                        NaN                  1995   \n",
       "1                     en CDI                        NaN                  2005   \n",
       "2  fonctionnaire ou assimilé                        NaN                  2006   \n",
       "3  fonctionnaire ou assimilé                        NaN                  1989   \n",
       "4                     en CDD                        NaN                  2015   \n",
       "\n",
       "             Systeme_exploitation Usage_telephone_mobile  \\\n",
       "0                         Windows               rarement   \n",
       "1                         Windows               rarement   \n",
       "2                         Windows                parfois   \n",
       "3  Windows;autres OS (Android...)                souvent   \n",
       "4                           MacOS                souvent   \n",
       "\n",
       "  Outils_gestion_travail_av_confinement_visioconférence  \\\n",
       "0                                            parfois      \n",
       "1                                            parfois      \n",
       "2                                           rarement      \n",
       "3                                           rarement      \n",
       "4                                           rarement      \n",
       "\n",
       "  Outils_gestion_travail_av_confinement_planification_RDV  ...  \\\n",
       "0                                            souvent       ...   \n",
       "1                                            parfois       ...   \n",
       "2                                            souvent       ...   \n",
       "3                                            souvent       ...   \n",
       "4                                            parfois       ...   \n",
       "\n",
       "  Souhait_partage_donnees_produites_discipline  \\\n",
       "0                                          oui   \n",
       "1                                          oui   \n",
       "2                                          oui   \n",
       "3                                          oui   \n",
       "4                                          oui   \n",
       "\n",
       "  Souhait_partage_donnees_produites_pays_continent  \\\n",
       "0                                              oui   \n",
       "1                                              oui   \n",
       "2                                              oui   \n",
       "3                                              oui   \n",
       "4                                              oui   \n",
       "\n",
       "  Souhait_partage_donnees_produites_domaine_economique  \\\n",
       "0                                                oui     \n",
       "1                                                oui     \n",
       "2                                                oui     \n",
       "3                                                non     \n",
       "4                                                oui     \n",
       "\n",
       "  Souhait_partage_donnees_produites_secteur_associatif  \\\n",
       "0                                                oui     \n",
       "1                                                oui     \n",
       "2                                                oui     \n",
       "3                                                non     \n",
       "4                                                oui     \n",
       "\n",
       "  Souhait_partage_donnees_produites_sans_restriction  \\\n",
       "0                                                oui   \n",
       "1                                                oui   \n",
       "2                                                oui   \n",
       "3                                                non   \n",
       "4                                                oui   \n",
       "\n",
       "     compatibilite_diffusion_partage evolutions_pratiques_numeriques  \\\n",
       "0                                oui                  je ne sais pas   \n",
       "1                                NaN                             NaN   \n",
       "2  oui, tout est dans la chronologie                             non   \n",
       "3                                Oui                     Aucune idée   \n",
       "4                                Oui                             Oui   \n",
       "\n",
       "        sexe   disciplines_9niv annee_de_naissance-recod10niv  \n",
       "0   un homme  Sciences humaines                   61 à 65 ans  \n",
       "1   un homme           Médecine                   46 à 50 ans  \n",
       "2   un homme           Médecine                   36 à 40 ans  \n",
       "3  une femme           Médecine                   56 à 60 ans  \n",
       "4  une femme           Médecine                   31 à 35 ans  \n",
       "\n",
       "[5 rows x 131 columns]"
      ]
     },
     "execution_count": 3,
     "metadata": {},
     "output_type": "execute_result"
    }
   ],
   "source": [
    "data.head()"
   ]
  },
  {
   "cell_type": "markdown",
   "id": "5f236e7c",
   "metadata": {},
   "source": [
    "Regardons aussi les métadonnées."
   ]
  },
  {
   "cell_type": "code",
   "execution_count": 4,
   "id": "d07ab55c",
   "metadata": {
    "scrolled": true,
    "tags": []
   },
   "outputs": [],
   "source": [
    "questions = meta[31:]  # le tableau des questions ne commence qu'à la ligne 31\n",
    "questions = questions[questions.columns[0:2]]  # garder les deux premières colonnes\n",
    "questions.columns = [\"variable\", \"question\"]  # renommer les colonnes\n",
    "questions = questions.set_index(\"variable\")  # mettre le nom en index\n",
    "\n",
    "# Recodage du genre\n",
    "\n",
    "reco = {\n",
    "    \"un homme\": \"Homme\",\n",
    "    \"une femme\": \"Femme\",\n",
    "    \"je ne souhaite pas répondre\": \"Pas de réponse\",\n",
    "}\n",
    "data[\"sexe\"] = data[\"sexe\"].replace(reco)\n",
    "\n",
    "# Recodage de l'âge\n",
    "reco = {\n",
    "    \"61 à 65 ans\": \"61-65\",\n",
    "    \"46 à 50 ans\": \"46-50\",\n",
    "    \"36 à 40 ans\": \"36-40\",\n",
    "    \"56 à 60 ans\": \"56-60\",\n",
    "    \"31 à 35 ans\": \"31-35\",\n",
    "    \"25 à 30 ans\": \"25-30\",\n",
    "    \"51 à 55 ans\": \"51-55\",\n",
    "    \"41 à 45 ans\": \"41-45\",\n",
    "    \"66 ans et plus\": \"66+\",\n",
    "    \"moins de 25 ans\": \"18-25\",\n",
    "}\n",
    "data[\"age\"] = data[\"annee_de_naissance-recod10niv\"].replace(reco)\n",
    "\n",
    "# Recodage de la discipline\n",
    "reco = {\n",
    "    \"Lettres et Arts\": \"SHS\",\n",
    "    \"Sciences humaines\": \"SHS\",\n",
    "    \"Sciences sociales\": \"SHS\",\n",
    "    \"Physique, Sciences de la terre et de l'Univers\": \"Physique & Univers\",\n",
    "}\n",
    "data[\"disciplines_reco\"] = data[\"disciplines_9niv\"].replace(reco)\n",
    "\n",
    "# Passage de l'année de première publi en variable qualitative\n",
    "data[\"annee_premiere_publi_quali\"] = pd.cut(\n",
    "    data[\"annee_premiere_publi\"], range(1930, 2030, 10)\n",
    ")\n",
    "\n",
    "# Recodage du statut/fonction\n",
    "reco = {\n",
    "    \"professeur / professeure des universités et assimilés\": \"EC/C cat A\",\n",
    "    \"ingénieur / ingénieure de recherche\": \"Ingénieur\",\n",
    "    \"maître / maîtresse de conférences et assimilés\": \"EC/C cat B\",\n",
    "    \"directeur / directrice de recherche (CNRS, INSERM, INRAE, CNES...)\": \"EC/C cat A\",\n",
    "    \"doctorant / doctorante (y compris CIFRE)\": \"Doctorant\",\n",
    "    \"ingénieur / ingénieure d'études\": \"Ingénieur\",\n",
    "    \"chargé / chargée de recherche (CNRS, INSERM, INRAE, CNES...)\": \"EC/C cat B\",\n",
    "    \"chercheur / chercheure dans le secteur privé (ingénieur R&D, consultant, expert, chef de projet)\": \"Privé R&D\",\n",
    "    \"responsable de service R&D dans le secteur privé\": \"Privé R&D\",\n",
    "}\n",
    "data[\"fonction\"] = data[\"fonction_recherche\"].replace(reco)\n",
    "\n",
    "reco = {\n",
    "    \"fonctionnaire ou assimilé\": \"fonctionnaire\",\n",
    "    \"en CDI\": \"cdi\",\n",
    "    \"en CDD\": \"cdd\",\n",
    "    \"travailleur indépendant\": \"autre\",\n",
    "    \"contrat doctoral\": \":cdd\",\n",
    "    \"retraité\": \"autre\",\n",
    "    \"post-doc\": \"cdd\",\n",
    "    \"doctorant non financé\": \"autre\",\n",
    "    \"professeur / chercheur émérite\": \"autre\",\n",
    "    \"chômage\": \"autre\",\n",
    "    \"autre\": \"autre\",\n",
    "    \"vacataire\": \"autre\",\n",
    "}\n",
    "data[\"statut\"] = data[\"statut_professionnel\"].replace(reco)\n",
    "\n",
    "# Normalisation des recodage avec un ordre en regroupant des modalités\n",
    "reco = {\n",
    "    \"rarement\": \"2-Parfois\",\n",
    "    \"parfois\": \"2-Parfois\",\n",
    "    \"souvent\": \"1-Souvent\",\n",
    "    \"jamais\": \"3-Jamais\",\n",
    "    \"toujours\": \"1-Souvent\", # choix de réunir toujours et souvent\n",
    "}\n",
    "\n",
    "data[\"telephone_mobile\"] = data[\"Usage_telephone_mobile\"].replace(reco)\n",
    "data[\"donnees_numeriques\"] = data[\"type_donnees_nombres_valeurs_numeriques\"].replace(\n",
    "    reco\n",
    ")\n",
    "data[\"donnees_textes\"] = data[\"type_donnees_textes\"].replace(reco)\n",
    "data[\"donnees_images\"] = data[\"type_donnees_images\"].replace(reco)\n",
    "data[\"donnees_videos\"] = data[\"type_donnees_videos\"].replace(reco)\n",
    "data[\"donnees_3D\"] = data[\"type_donnees_ 3D\"].replace(reco)\n",
    "data[\"donnees_sons\"] = data[\"type_donnees_sons\"].replace(reco)\n",
    "data[\"donnees_reutilisation\"] = data[\"Reutilisation_donnees\"].replace(reco)\n",
    "data[\"usage_outils_nettoyage\"] = data[\"Usage_outils_nettoyage\"].replace(reco)\n",
    "data[\"usage_outils_analyse\"] = data[\"Usage_outils_analyse\"].replace(reco)\n",
    "data[\"usage_outils_visualisation\"] = data[\"Usage_outils_visualisation\"].replace(reco)\n",
    "data[\"usage_outils_qualification\"] = data[\n",
    "    \"usage_outils_systemes_qualif_donnees\"\n",
    "].replace(reco)\n",
    "data[\"usage_outils_traitement_texte\"] = data[\n",
    "    \"Outils_redaction_documents_traitement_texte\"\n",
    "].replace(reco)\n",
    "data[\"usage_outils_traitement_texte_ligne\"] = data[\n",
    "    \"Outils_redaction_documents_traitement_texte_ligne\"\n",
    "].replace(reco)\n",
    "data[\"usage_outils_latex\"] = data[\"Outils_redaction_documents_editeur_Latex\"].replace(\n",
    "    reco\n",
    ")\n",
    "data[\"usage_outils_balisage\"] = data[\"Outils_redaction_documents_balisage\"].replace(\n",
    "    reco\n",
    ")\n",
    "data[\"usage_outils_aide_redaction\"] = data[\n",
    "    \"Outils_redaction_documents_aide_redaction\"\n",
    "].replace(reco)\n",
    "data[\"usage_outils_aide_redaction_specifique\"] = data[\n",
    "    \"Outils_redaction_documents_formats_specifiques\"\n",
    "].replace(reco)\n",
    "data[\"usage_outils_references\"] = data[\n",
    "    \"Outils_redaction_documents_gestionnaire_references\"\n",
    "].replace(reco)\n",
    "data[\"usage_outils_traduction\"] = data[\"Outils_redaction_documents_traduction\"].replace(\n",
    "    reco\n",
    ")\n",
    "data[\"usage_outils_pao\"] = data[\"Outils_redaction_documents_PAO\"].replace(reco)\n",
    "data[\"usage_outils_figure\"] = data[\"outils_production_figure\"].replace(reco)\n",
    "\n",
    "# recodage d'une colonne de choix multiples\n",
    "reponses = {\n",
    "    \"des logiciels créés à cette fin (seul ou avec des collègues)\": \"logiciels_dedies\",\n",
    "    \"des logiciels gratuits avec des fonctionnalités premium\": \"logiciels_freemium\",\n",
    "    \"des logiciels internes à mon organisation\": \"logiciels_internes\",\n",
    "    \"des logiciels issus d'un projet de recherche\": \"logiciels_projet\",\n",
    "    \"des logiciels libres et gratuits\": \"logiciels_libres\",\n",
    "    \"des logiciels partiellement ou complètement gratuits mais propriétaires\": \"logiciels_proprietaires\",\n",
    "    \"des logiciels payants\": \"logiciels_payants\",\n",
    "    'des logiciels payants \"crackés\"': \"logiciels_crackes\",\n",
    "    \"des logiciels version d'essai ou démo\": \"logiciels_demo\",\n",
    "}\n",
    "# Pour chaque ligne regarder si la réponse est présente (Vraie) ou absente (Fausse)\n",
    "for i in reponses:\n",
    "    data[reponses[i]] = (\n",
    "        data[\"types_logiciels_production_donnees\"]\n",
    "        .str.contains(i)\n",
    "        .fillna(False)\n",
    "        .apply(str)\n",
    "    )\n",
    "\n",
    "# Recodage des systèmes d'exploitation\n",
    "data[\"OS_windows\"] = data[\"Systeme_exploitation\"].str.contains(\"Windows\").apply(str)\n",
    "data[\"OS_linux\"] = data[\"Systeme_exploitation\"].str.contains(\"Linux|Unix\").apply(str)\n",
    "data[\"OS_mac\"] = data[\"Systeme_exploitation\"].str.contains(\"Mac\").apply(str)\n",
    "data[\"OS_multiples\"] = data[\"Systeme_exploitation\"].str.contains(\";\").apply(str)"
   ]
  },
  {
   "cell_type": "markdown",
   "id": "fb4606b0",
   "metadata": {},
   "source": [
    "**Remarque** : nous réutilisons des données, elles ne sont pas parfaitement adaptées à ce que nous voudrions faire. Ainsi, la fonction/statut professionnel ne semble pas découler d'une grille très cohérente (être postdoc est un CDD par exemple, et les deux modalités existent). Certains recodages correctifs pourraient être envisagés."
   ]
  },
  {
   "cell_type": "markdown",
   "id": "f395a011",
   "metadata": {},
   "source": [
    "## Analyse des données non structurées du questionnaire"
   ]
  },
  {
   "cell_type": "code",
   "execution_count": 6,
   "id": "e05450c9",
   "metadata": {
    "tags": []
   },
   "outputs": [
    {
     "data": {
      "text/html": [
       "<div>\n",
       "<style scoped>\n",
       "    .dataframe tbody tr th:only-of-type {\n",
       "        vertical-align: middle;\n",
       "    }\n",
       "\n",
       "    .dataframe tbody tr th {\n",
       "        vertical-align: top;\n",
       "    }\n",
       "\n",
       "    .dataframe thead th {\n",
       "        text-align: right;\n",
       "    }\n",
       "</style>\n",
       "<table border=\"1\" class=\"dataframe\">\n",
       "  <thead>\n",
       "    <tr style=\"text-align: right;\">\n",
       "      <th></th>\n",
       "      <th>logiciel_production_donnees</th>\n",
       "      <th>outils_nettoyage</th>\n",
       "      <th>Outils_analyses</th>\n",
       "      <th>Outils_visualisation</th>\n",
       "      <th>outils_production_figure</th>\n",
       "    </tr>\n",
       "  </thead>\n",
       "  <tbody>\n",
       "    <tr>\n",
       "      <th>0</th>\n",
       "      <td>Lime survey</td>\n",
       "      <td>NaN</td>\n",
       "      <td>tableur pour les données statistiques</td>\n",
       "      <td>NaN</td>\n",
       "      <td>aucun</td>\n",
       "    </tr>\n",
       "    <tr>\n",
       "      <th>1</th>\n",
       "      <td>excell word</td>\n",
       "      <td>clean</td>\n",
       "      <td>outil statistique</td>\n",
       "      <td>NaN</td>\n",
       "      <td>NaN</td>\n",
       "    </tr>\n",
       "    <tr>\n",
       "      <th>2</th>\n",
       "      <td>JASP</td>\n",
       "      <td>NaN</td>\n",
       "      <td>NaN</td>\n",
       "      <td>NaN</td>\n",
       "      <td>ppt</td>\n",
       "    </tr>\n",
       "    <tr>\n",
       "      <th>3</th>\n",
       "      <td>Question peu claire.  Excel, SPSS, logiciels d...</td>\n",
       "      <td>NaN</td>\n",
       "      <td>Excel, SPSS</td>\n",
       "      <td>NaN</td>\n",
       "      <td>NaN</td>\n",
       "    </tr>\n",
       "    <tr>\n",
       "      <th>4</th>\n",
       "      <td>?</td>\n",
       "      <td>NaN</td>\n",
       "      <td>Excel r</td>\n",
       "      <td>Image j dti studii</td>\n",
       "      <td>Ppt image j</td>\n",
       "    </tr>\n",
       "    <tr>\n",
       "      <th>...</th>\n",
       "      <td>...</td>\n",
       "      <td>...</td>\n",
       "      <td>...</td>\n",
       "      <td>...</td>\n",
       "      <td>...</td>\n",
       "    </tr>\n",
       "    <tr>\n",
       "      <th>1084</th>\n",
       "      <td>NaN</td>\n",
       "      <td>NaN</td>\n",
       "      <td>EpiInfo\\nXlstat</td>\n",
       "      <td>EpiInfo\\nXlstat\\nExcel</td>\n",
       "      <td>Excel\\nPowerpoint\\nThe Gimp\\nGoogle map</td>\n",
       "    </tr>\n",
       "    <tr>\n",
       "      <th>1085</th>\n",
       "      <td>NaN</td>\n",
       "      <td>NaN</td>\n",
       "      <td>NaN</td>\n",
       "      <td>Xpdf, Evince</td>\n",
       "      <td>NaN</td>\n",
       "    </tr>\n",
       "    <tr>\n",
       "      <th>1086</th>\n",
       "      <td>NaN</td>\n",
       "      <td>openrefine, talend</td>\n",
       "      <td>NaN</td>\n",
       "      <td>NaN</td>\n",
       "      <td>NaN</td>\n",
       "    </tr>\n",
       "    <tr>\n",
       "      <th>1087</th>\n",
       "      <td>NaN</td>\n",
       "      <td>NaN</td>\n",
       "      <td>NaN</td>\n",
       "      <td>NaN</td>\n",
       "      <td>XFig .... mais c'est dépassé, je devrais changer</td>\n",
       "    </tr>\n",
       "    <tr>\n",
       "      <th>1088</th>\n",
       "      <td>NaN</td>\n",
       "      <td>R, Excel</td>\n",
       "      <td>R, MPlus, Stata, SAS, Excel</td>\n",
       "      <td>R</td>\n",
       "      <td>R</td>\n",
       "    </tr>\n",
       "  </tbody>\n",
       "</table>\n",
       "<p>1089 rows × 5 columns</p>\n",
       "</div>"
      ],
      "text/plain": [
       "                            logiciel_production_donnees    outils_nettoyage  \\\n",
       "0                                           Lime survey                 NaN   \n",
       "1                                           excell word               clean   \n",
       "2                                                  JASP                 NaN   \n",
       "3     Question peu claire.  Excel, SPSS, logiciels d...                 NaN   \n",
       "4                                                     ?                 NaN   \n",
       "...                                                 ...                 ...   \n",
       "1084                                                NaN                 NaN   \n",
       "1085                                                NaN                 NaN   \n",
       "1086                                                NaN  openrefine, talend   \n",
       "1087                                                NaN                 NaN   \n",
       "1088                                                NaN            R, Excel   \n",
       "\n",
       "                            Outils_analyses    Outils_visualisation  \\\n",
       "0     tableur pour les données statistiques                     NaN   \n",
       "1                         outil statistique                     NaN   \n",
       "2                                       NaN                     NaN   \n",
       "3                               Excel, SPSS                     NaN   \n",
       "4                                   Excel r      Image j dti studii   \n",
       "...                                     ...                     ...   \n",
       "1084                        EpiInfo\\nXlstat  EpiInfo\\nXlstat\\nExcel   \n",
       "1085                                    NaN            Xpdf, Evince   \n",
       "1086                                    NaN                     NaN   \n",
       "1087                                    NaN                     NaN   \n",
       "1088            R, MPlus, Stata, SAS, Excel                       R   \n",
       "\n",
       "                              outils_production_figure  \n",
       "0                                                aucun  \n",
       "1                                                  NaN  \n",
       "2                                                  ppt  \n",
       "3                                                  NaN  \n",
       "4                                          Ppt image j  \n",
       "...                                                ...  \n",
       "1084           Excel\\nPowerpoint\\nThe Gimp\\nGoogle map  \n",
       "1085                                               NaN  \n",
       "1086                                               NaN  \n",
       "1087  XFig .... mais c'est dépassé, je devrais changer  \n",
       "1088                                                 R  \n",
       "\n",
       "[1089 rows x 5 columns]"
      ]
     },
     "execution_count": 6,
     "metadata": {},
     "output_type": "execute_result"
    }
   ],
   "source": [
    "var_libre = [\n",
    "    \"logiciel_production_donnees\",\n",
    "    \"outils_nettoyage\",\n",
    "    \"Outils_analyses\",\n",
    "    \"Outils_visualisation\",\n",
    "    \"outils_production_figure\",\n",
    "]\n",
    "\n",
    "# Créer une nouvelle colonne qui agrège tous les textes\n",
    "data[\"outils\"] = data[var_libre].apply(\n",
    "    lambda l: \"|\".join([u for u in l if pd.notnull(u)]), axis=1\n",
    ")\n",
    "\n",
    "data[var_libre]"
   ]
  },
  {
   "cell_type": "code",
   "execution_count": 7,
   "id": "7ef4fd4b",
   "metadata": {
    "tags": []
   },
   "outputs": [
    {
     "data": {
      "text/html": [
       "<div>\n",
       "<style scoped>\n",
       "    .dataframe tbody tr th:only-of-type {\n",
       "        vertical-align: middle;\n",
       "    }\n",
       "\n",
       "    .dataframe tbody tr th {\n",
       "        vertical-align: top;\n",
       "    }\n",
       "\n",
       "    .dataframe thead th {\n",
       "        text-align: right;\n",
       "    }\n",
       "</style>\n",
       "<table border=\"1\" class=\"dataframe\">\n",
       "  <thead>\n",
       "    <tr style=\"text-align: right;\">\n",
       "      <th></th>\n",
       "      <th>question</th>\n",
       "    </tr>\n",
       "    <tr>\n",
       "      <th>variable</th>\n",
       "      <th></th>\n",
       "    </tr>\n",
       "  </thead>\n",
       "  <tbody>\n",
       "    <tr>\n",
       "      <th>logiciel_production_donnees</th>\n",
       "      <td>Quels logiciels utilisez-vous pour produire de...</td>\n",
       "    </tr>\n",
       "    <tr>\n",
       "      <th>outils_nettoyage</th>\n",
       "      <td>Pouvez-vous précisez lesquels ?</td>\n",
       "    </tr>\n",
       "    <tr>\n",
       "      <th>Outils_analyses</th>\n",
       "      <td>Pouvez-vous précisez lesquels ?</td>\n",
       "    </tr>\n",
       "    <tr>\n",
       "      <th>Outils_visualisation</th>\n",
       "      <td>Pouvez-vous précisez lesquels ?</td>\n",
       "    </tr>\n",
       "    <tr>\n",
       "      <th>outils_production_figure</th>\n",
       "      <td>Quels outils utilisez-vous pour générer des fi...</td>\n",
       "    </tr>\n",
       "  </tbody>\n",
       "</table>\n",
       "</div>"
      ],
      "text/plain": [
       "                                                                      question\n",
       "variable                                                                      \n",
       "logiciel_production_donnees  Quels logiciels utilisez-vous pour produire de...\n",
       "outils_nettoyage                               Pouvez-vous précisez lesquels ?\n",
       "Outils_analyses                                Pouvez-vous précisez lesquels ?\n",
       "Outils_visualisation                           Pouvez-vous précisez lesquels ?\n",
       "outils_production_figure     Quels outils utilisez-vous pour générer des fi..."
      ]
     },
     "execution_count": 7,
     "metadata": {},
     "output_type": "execute_result"
    }
   ],
   "source": [
    "questions.loc[var_libre]"
   ]
  },
  {
   "cell_type": "markdown",
   "id": "a5206695",
   "metadata": {},
   "source": [
    "### 4.1 Extraire les termes des réponses"
   ]
  },
  {
   "cell_type": "markdown",
   "id": "e023d2ea",
   "metadata": {},
   "source": [
    "Extraire tous les termes (avec la limite que des logiciels comme R sont représentés par une lettre, ou Image J en deux mots... un travail plus précis devrait identifier ces bigrammes. De nombreuses ressources permettent d'aller plus loin, par exemple : https://towardsdatascience.com/text-analysis-basics-in-python-443282942ec5)"
   ]
  },
  {
   "cell_type": "code",
   "execution_count": 8,
   "id": "d404f4f2",
   "metadata": {
    "tags": []
   },
   "outputs": [
    {
     "data": {
      "text/plain": [
       "[('excel', 675),\n",
       " ('r', 641),\n",
       " ('python', 417),\n",
       " ('matlab', 268),\n",
       " ('word', 214),\n",
       " ('qgis', 156),\n",
       " ('powerpoint', 154),\n",
       " ('office', 124),\n",
       " ('gimp', 119),\n",
       " ('inkscape', 118),\n",
       " ('illustrator', 116),\n",
       " ('adobe', 113),\n",
       " ('outils', 113),\n",
       " ('photoshop', 90),\n",
       " ('spss', 87),\n",
       " ('imagej', 83),\n",
       " ('origin', 79),\n",
       " ('sas', 74),\n",
       " ('gnuplot', 68),\n",
       " ('latex', 64)]"
      ]
     },
     "execution_count": 8,
     "metadata": {},
     "output_type": "execute_result"
    }
   ],
   "source": [
    "# Définir une fonction qui décomposer une phrase en mots en enlevant les mots trop fréquents\n",
    "def tokenizer(ligne):\n",
    "    ponctuation = [\".\", \",\", \";\", \"-\", \"\\n\", \"(\", \")\", \"'\",\":\",\"?\",\"|\"]\n",
    "    stopwords = [\n",
    "        \"de\",\n",
    "        \"ou\",\n",
    "        \"et\",\n",
    "        \"des\",\n",
    "        \"en\",\n",
    "        \"d\",\n",
    "        \"je\",\n",
    "        \"par\",\n",
    "        \"pour\",\n",
    "        \"à\",\n",
    "        \"logiciels\",\n",
    "        \"pas\",\n",
    "        \"la\",\n",
    "        \"les\",\n",
    "        \"données\",\n",
    "        \"logiciel\",\n",
    "        \"/\",\"le\",\"sur\",\"un\",\"une\"\n",
    "    ]\n",
    "    for i in ponctuation:\n",
    "        ligne = ligne.replace(i, \" \")\n",
    "    return [i for i in ligne.lower().split(\" \") if len(i) > 0 and not i in stopwords]\n",
    "\n",
    "\n",
    "# Application sur la colonne\n",
    "data[\"outils_token\"] = data[\"outils\"].apply(tokenizer)\n",
    "\n",
    "# Construction d'un compteur\n",
    "from collections import Counter\n",
    "\n",
    "# Comptage des mots des phrases décomposés\n",
    "compteur = Counter([j for i in list(data[\"outils_token\"]) for j in i])\n",
    "\n",
    "# Afficher les termes les plus communs\n",
    "compteur.most_common(20)"
   ]
  },
  {
   "cell_type": "markdown",
   "id": "a95b846d-e950-4021-b00d-c6e28b523f2f",
   "metadata": {},
   "source": [
    "Créer un dictionnaire de recodage"
   ]
  },
  {
   "cell_type": "code",
   "execution_count": 10,
   "id": "a0785bb7",
   "metadata": {
    "tags": []
   },
   "outputs": [],
   "source": [
    "data[\"outils\"].apply(lambda x : x.replace(\"\\n\",\" \")).str.lower().to_csv(\"./outils_shs.csv\")"
   ]
  },
  {
   "cell_type": "markdown",
   "id": "d66a7352-7c36-4895-992c-3ae040111b47",
   "metadata": {},
   "source": [
    "Recharger le dictionnaire de recodage"
   ]
  },
  {
   "cell_type": "code",
   "execution_count": 13,
   "id": "17db535f",
   "metadata": {
    "tags": []
   },
   "outputs": [],
   "source": [
    "data_reco = pd.read_csv(\"./outils_shs_reco.csv\")"
   ]
  },
  {
   "cell_type": "code",
   "execution_count": 13,
   "id": "2d864d68",
   "metadata": {
    "tags": []
   },
   "outputs": [
    {
     "data": {
      "text/plain": [
       "492"
      ]
     },
     "execution_count": 13,
     "metadata": {},
     "output_type": "execute_result"
    }
   ],
   "source": [
    "len(data_reco)"
   ]
  },
  {
   "cell_type": "markdown",
   "id": "9b70df16",
   "metadata": {},
   "source": [
    "On regroupe word ; excel ; office ; tableur ; traitement de texte. Pour cela on crée une fonction"
   ]
  },
  {
   "cell_type": "code",
   "execution_count": 11,
   "id": "3af042f4",
   "metadata": {
    "tags": []
   },
   "outputs": [],
   "source": [
    "def reco(x):\n",
    "    x = x.strip()\n",
    "    if x in [\"excel\",\"word\",\"office\",\"libreoffice\",\"openoffice\",\"powerpoint\",\"open office\",\n",
    "             \"libre office\",\"calc\",\"traitement de texte\",\"tableur\"]:\n",
    "        return \"Office-word,calc&co\"\n",
    "    return x"
   ]
  },
  {
   "cell_type": "code",
   "execution_count": 14,
   "id": "bca49925",
   "metadata": {
    "tags": []
   },
   "outputs": [],
   "source": [
    "d = [i.split(\"|\") for i in list(data_reco[\"outils\"].dropna())]\n",
    "#d = [j.strip() for i in d for j in i]"
   ]
  },
  {
   "cell_type": "code",
   "execution_count": 15,
   "id": "791da0dc",
   "metadata": {
    "tags": []
   },
   "outputs": [],
   "source": [
    "import networkx as nx\n",
    "from itertools import combinations\n",
    "from ipysigma import Sigma"
   ]
  },
  {
   "cell_type": "code",
   "execution_count": 16,
   "id": "b01c68d4",
   "metadata": {
    "tags": []
   },
   "outputs": [
    {
     "data": {
      "text/plain": [
       "excel          0.380081\n",
       "word           0.317073\n",
       "r              0.235772\n",
       "qgis           0.123984\n",
       "office         0.107724\n",
       "powerpoint     0.101626\n",
       "spss           0.093496\n",
       "photoshop      0.077236\n",
       "illustrator    0.075203\n",
       "python         0.056911\n",
       "Name: count, dtype: float64"
      ]
     },
     "execution_count": 16,
     "metadata": {},
     "output_type": "execute_result"
    }
   ],
   "source": [
    "(pd.Series([j for i in d for j in i]).value_counts()/len(data_reco))[0:10]"
   ]
  },
  {
   "cell_type": "code",
   "execution_count": 17,
   "id": "101a7180",
   "metadata": {
    "tags": []
   },
   "outputs": [],
   "source": [
    "network = nx.Graph()\n",
    "\n",
    "for l in d:\n",
    "    l = [reco(u) for u in l if pd.notnull(reco(u)) and reco(u)!=\"\"]\n",
    "    for e in l:\n",
    "        if not e in network.nodes:\n",
    "            network.add_node(e, label=e, weight=1)\n",
    "        else:\n",
    "            network.nodes[e][\"weight\"] += 1\n",
    "            \n",
    "    for i, j in combinations(l, 2): \n",
    "        if not network.has_edge(i, j):\n",
    "            network.add_edge(i, j, weight=1)\n",
    "        else:\n",
    "            network[i][j][\"weight\"] += 1"
   ]
  },
  {
   "cell_type": "markdown",
   "id": "6f0a876e-1a07-40ff-94a3-68e57ca8197c",
   "metadata": {},
   "source": [
    "Sortir vers un format utilisable sur Gephi"
   ]
  },
  {
   "cell_type": "code",
   "execution_count": 9,
   "id": "f681f5bd",
   "metadata": {},
   "outputs": [],
   "source": [
    "nx.write_graphml(network,\"reseau.graphml\")"
   ]
  },
  {
   "cell_type": "markdown",
   "id": "9fe2988c-a950-46f5-bb10-644cc89e81f9",
   "metadata": {},
   "source": [
    "Visualisation"
   ]
  },
  {
   "cell_type": "code",
   "execution_count": 18,
   "id": "d7bd5106",
   "metadata": {
    "tags": []
   },
   "outputs": [
    {
     "data": {
      "application/vnd.jupyter.widget-view+json": {
       "model_id": "24a8a70ae93445f2824c2079ad37cc08",
       "version_major": 2,
       "version_minor": 0
      },
      "text/plain": [
       "Sigma(nx.Graph with 424 nodes and 2,559 edges)"
      ]
     },
     "execution_count": 18,
     "metadata": {},
     "output_type": "execute_result"
    }
   ],
   "source": [
    "#network.remove_node(\"bureautique\")\n",
    "Sigma(network,node_size=\"weight\")"
   ]
  },
  {
   "cell_type": "code",
   "execution_count": 21,
   "id": "41d6508e",
   "metadata": {},
   "outputs": [
    {
     "data": {
      "application/vnd.jupyter.widget-view+json": {
       "model_id": "0e0540c8640f4787b6f7ce3a4f417562",
       "version_major": 2,
       "version_minor": 0
      },
      "text/plain": [
       "Sigma(nx.Graph with 423 nodes and 2,232 edges)"
      ]
     },
     "execution_count": 21,
     "metadata": {},
     "output_type": "execute_result"
    }
   ],
   "source": [
    "network2 = network.copy()\n",
    "network2.remove_node(\"Office-word,calc&co\")\n",
    "Sigma(network2,node_size=\"weight\")"
   ]
  },
  {
   "cell_type": "code",
   "execution_count": 22,
   "id": "12129ddb",
   "metadata": {
    "tags": []
   },
   "outputs": [
    {
     "data": {
      "text/plain": [
       "2824"
      ]
     },
     "execution_count": 22,
     "metadata": {},
     "output_type": "execute_result"
    }
   ],
   "source": [
    "len(compteur)"
   ]
  },
  {
   "cell_type": "code",
   "execution_count": 23,
   "id": "c9e5a433",
   "metadata": {
    "tags": []
   },
   "outputs": [
    {
     "name": "stdout",
     "output_type": "stream",
     "text": [
      "1418\n"
     ]
    },
    {
     "data": {
      "text/plain": [
       "[('excel', 281),\n",
       " ('r', 245),\n",
       " ('word', 174),\n",
       " ('qgis', 100),\n",
       " ('adobe', 75),\n",
       " ('spss', 74),\n",
       " ('illustrator', 73),\n",
       " ('office', 64),\n",
       " ('photoshop', 56),\n",
       " ('python', 55),\n",
       " ('stata', 51),\n",
       " ('arcgis', 41),\n",
       " ('sig', 39),\n",
       " ('powerpoint', 39),\n",
       " ('traitement', 37),\n",
       " ('iramuteq', 37),\n",
       " ('nvivo', 36),\n",
       " ('outils', 35),\n",
       " ('microsoft', 33),\n",
       " ('ne', 33),\n",
       " ('gephi', 32),\n",
       " ('libreoffice', 32),\n",
       " ('aucun', 31),\n",
       " ('suite', 31),\n",
       " ('sas', 31),\n",
       " ('texte', 28),\n",
       " ('sphinx', 28),\n",
       " ('gimp', 28),\n",
       " ('avec', 26),\n",
       " ('analyse', 25),\n",
       " ('inkscape', 24),\n",
       " ('j', 23),\n",
       " ('filemaker', 22),\n",
       " ('open', 21),\n",
       " ('limesurvey', 21),\n",
       " ('matlab', 20),\n",
       " ('statistiques', 19),\n",
       " ('access', 19),\n",
       " ('dans', 19),\n",
       " ('alceste', 18),\n",
       " ('txm', 18),\n",
       " ('sonal', 18),\n",
       " ('rstudio', 18),\n",
       " ('l', 17),\n",
       " ('tableur', 16),\n",
       " ('calc', 16),\n",
       " ('paint', 16),\n",
       " ('google', 16),\n",
       " ('question', 16),\n",
       " ('que', 16)]"
      ]
     },
     "execution_count": 23,
     "metadata": {},
     "output_type": "execute_result"
    }
   ],
   "source": [
    "f = data[\"disciplines_reco\"]==\"SHS\"\n",
    "compteur_shs = Counter([j for i in list(data[f][\"outils_token\"]) for j in i])\n",
    "print(len(compteur_shs))\n",
    "compteur_shs.most_common(50)"
   ]
  },
  {
   "cell_type": "code",
   "execution_count": 23,
   "id": "f8fe828d",
   "metadata": {
    "tags": []
   },
   "outputs": [
    {
     "data": {
      "text/plain": [
       "1418"
      ]
     },
     "execution_count": 23,
     "metadata": {},
     "output_type": "execute_result"
    }
   ],
   "source": [
    "len(compteur_shs)"
   ]
  },
  {
   "cell_type": "markdown",
   "id": "194331bf",
   "metadata": {},
   "source": [
    "En modifiant itérativement la liste des stopwords, on peut améliorer l'identification des logiciels. Cette analyse dépasse l'objectif de ce notebook, et ouvre la voie à un traitement du langage naturel."
   ]
  },
  {
   "cell_type": "markdown",
   "id": "833fbde4",
   "metadata": {},
   "source": [
    "### 4.2 Usagers de Python et profils\n",
    "\n",
    "Nous allons pour finir nous concentrer sur les utilisateurs de Python."
   ]
  },
  {
   "cell_type": "code",
   "execution_count": 24,
   "id": "51c55a4a",
   "metadata": {
    "tags": []
   },
   "outputs": [],
   "source": [
    "data[\"usage_python\"] = data[\"outils_token\"].apply(lambda x: \"python\" in x)"
   ]
  },
  {
   "cell_type": "markdown",
   "id": "fb1cf3f8",
   "metadata": {},
   "source": [
    "Il est alors possible de regarder les propriétés de ces utilisateurs de Python par rapport aux autres variables, comme les profils identifiés."
   ]
  },
  {
   "cell_type": "code",
   "execution_count": 25,
   "id": "a45018c7",
   "metadata": {
    "tags": []
   },
   "outputs": [],
   "source": [
    "pyshs.tableau_croise(data, \"clusters\", \"usage_python\")"
   ]
  },
  {
   "cell_type": "markdown",
   "id": "f2633cd1",
   "metadata": {},
   "source": [
    "Clairement, il y a peu d'utilisateurs de Python dans la catégorie 1, et ils sont presque la moitié dans la catégorie 2 à utiliser ce type d'outils. Il est possible aussi de se poser la question de l'usage par rapport aux disciplines : "
   ]
  },
  {
   "cell_type": "code",
   "execution_count": 26,
   "id": "ca0922ce",
   "metadata": {
    "tags": []
   },
   "outputs": [
    {
     "data": {
      "text/html": [
       "<div>\n",
       "<style scoped>\n",
       "    .dataframe tbody tr th:only-of-type {\n",
       "        vertical-align: middle;\n",
       "    }\n",
       "\n",
       "    .dataframe tbody tr th {\n",
       "        vertical-align: top;\n",
       "    }\n",
       "\n",
       "    .dataframe thead th {\n",
       "        text-align: right;\n",
       "    }\n",
       "</style>\n",
       "<table border=\"1\" class=\"dataframe\">\n",
       "  <thead>\n",
       "    <tr style=\"text-align: right;\">\n",
       "      <th>usage_python</th>\n",
       "      <th>False</th>\n",
       "      <th>True</th>\n",
       "      <th>Total</th>\n",
       "    </tr>\n",
       "    <tr>\n",
       "      <th>disciplines_reco</th>\n",
       "      <th></th>\n",
       "      <th></th>\n",
       "      <th></th>\n",
       "    </tr>\n",
       "  </thead>\n",
       "  <tbody>\n",
       "    <tr>\n",
       "      <th>Chimie, Matériaux</th>\n",
       "      <td>55 (93.2%)</td>\n",
       "      <td>4 (6.8%)</td>\n",
       "      <td>59 (100%)</td>\n",
       "    </tr>\n",
       "    <tr>\n",
       "      <th>Mathématiques, Informatiques</th>\n",
       "      <td>93 (67.4%)</td>\n",
       "      <td>45 (32.6%)</td>\n",
       "      <td>138 (100%)</td>\n",
       "    </tr>\n",
       "    <tr>\n",
       "      <th>Médecine</th>\n",
       "      <td>48 (88.9%)</td>\n",
       "      <td>6 (11.1%)</td>\n",
       "      <td>54 (100%)</td>\n",
       "    </tr>\n",
       "    <tr>\n",
       "      <th>Physique &amp; Univers</th>\n",
       "      <td>55 (53.4%)</td>\n",
       "      <td>48 (46.6%)</td>\n",
       "      <td>103 (100%)</td>\n",
       "    </tr>\n",
       "    <tr>\n",
       "      <th>SHS</th>\n",
       "      <td>466 (94.5%)</td>\n",
       "      <td>27 (5.5%)</td>\n",
       "      <td>493 (100%)</td>\n",
       "    </tr>\n",
       "    <tr>\n",
       "      <th>Science de l'ingénieur</th>\n",
       "      <td>58 (63.7%)</td>\n",
       "      <td>33 (36.3%)</td>\n",
       "      <td>91 (100%)</td>\n",
       "    </tr>\n",
       "    <tr>\n",
       "      <th>Sciences du vivant</th>\n",
       "      <td>125 (90.6%)</td>\n",
       "      <td>13 (9.4%)</td>\n",
       "      <td>138 (100%)</td>\n",
       "    </tr>\n",
       "    <tr>\n",
       "      <th>Total</th>\n",
       "      <td>900 (83.6%)</td>\n",
       "      <td>176 (16.4%)</td>\n",
       "      <td>1076 (100%)</td>\n",
       "    </tr>\n",
       "  </tbody>\n",
       "</table>\n",
       "</div>"
      ],
      "text/plain": [
       "usage_python                        False         True        Total\n",
       "disciplines_reco                                                   \n",
       "Chimie, Matériaux              55 (93.2%)     4 (6.8%)    59 (100%)\n",
       "Mathématiques, Informatiques   93 (67.4%)   45 (32.6%)   138 (100%)\n",
       "Médecine                       48 (88.9%)    6 (11.1%)    54 (100%)\n",
       "Physique & Univers             55 (53.4%)   48 (46.6%)   103 (100%)\n",
       "SHS                           466 (94.5%)    27 (5.5%)   493 (100%)\n",
       "Science de l'ingénieur         58 (63.7%)   33 (36.3%)    91 (100%)\n",
       "Sciences du vivant            125 (90.6%)    13 (9.4%)   138 (100%)\n",
       "Total                         900 (83.6%)  176 (16.4%)  1076 (100%)"
      ]
     },
     "execution_count": 26,
     "metadata": {},
     "output_type": "execute_result"
    }
   ],
   "source": [
    "pyshs.tableau_croise(data, \"disciplines_reco\", \"usage_python\")"
   ]
  },
  {
   "cell_type": "markdown",
   "id": "db0c1e9e",
   "metadata": {},
   "source": [
    "Clairement, les physiciens sont les plus coutumiers de l'usage de Python ; en SHS l'usage est encore à ses débuts. Mais il ne demande qu'à progresser !"
   ]
  },
  {
   "cell_type": "markdown",
   "id": "d95b4e06",
   "metadata": {},
   "source": [
    "## Conclusion\n",
    "\n",
    "\n",
    "\n",
    "<div class=\"alert alert-block alert-info\">\n",
    "    \n",
    "Ce Notebook présente la démarche de réanalyse de données collectées lors d'une enquête par questionnaire pour étudier les pratiques d'outils numériques des chercheurs.<br>\n",
    "\n",
    "Il retrace les différentes étapes nécessaires d'une analyse : chargement des données, exploration, puis recodage pour formuler une question de recherche précise, et enfin la mise en oeuvre d'une analyse spécifique. Dans notre cas, il s'agit de la construction de profils de chercheurs par rapport aux réponses qu'ils ont donné.<br>\n",
    "    \n",
    "Pour cela il présente différentes stratégies pratiques de préparation des données, permettant de garder la trace de l'ensemble des modifications réalisées sur les données brutes.<br>\n",
    "    \n",
    "La construction de ces catégories reposent sur une stratégie de clusterisation relevant du machine learning. Dans ce cas, c'est une classification hiérarchique ascendante réalisé après une ACM qui permet d'identifier trois catégories.<br>\n",
    "    \n",
    "Les profils identifiés sont ensuite interprétés en les rapportant aux variables utilisées pour la classification, et aux variables indépendantes.<br>\n",
    "    \n",
    "En complément de cette analyse, il pourrait être intéressant de confronter cette typologie à d'autres regroupements (par exemple avec 4 ou 5 classes) afin de vérifier la robustesse.\n",
    "</div>"
   ]
  },
  {
   "cell_type": "markdown",
   "id": "e590f131",
   "metadata": {},
   "source": [
    "Aller plus loin : pour dépasser l'objectif descriptif de l'enquête, il pourrait être intéressant de prédire l'usage de Python en fonction du profil des répondants."
   ]
  }
 ],
 "metadata": {
  "celltoolbar": "Format de la Cellule Texte Brut",
  "kernelspec": {
   "display_name": "Python 3 (ipykernel)",
   "language": "python",
   "name": "python3"
  },
  "language_info": {
   "codemirror_mode": {
    "name": "ipython",
    "version": 3
   },
   "file_extension": ".py",
   "mimetype": "text/x-python",
   "name": "python",
   "nbconvert_exporter": "python",
   "pygments_lexer": "ipython3",
   "version": "3.11.4"
  }
 },
 "nbformat": 4,
 "nbformat_minor": 5
}
